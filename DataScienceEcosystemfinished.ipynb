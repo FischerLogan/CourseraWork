{
 "cells": [
  {
   "cell_type": "markdown",
   "id": "64e0be9e-c89b-487e-9ab0-894b1a89b5c0",
   "metadata": {},
   "source": [
    "# Data Science Tools and Ecosyetem"
   ]
  },
  {
   "cell_type": "markdown",
   "id": "038e09d4-2e02-4a99-9854-249cb10b6d97",
   "metadata": {},
   "source": [
    "In this notebook, Data Science Tools and Ecosystem are summarized."
   ]
  },
  {
   "cell_type": "markdown",
   "id": "9fd87ef0-31f3-48f4-b3dc-41d036caae72",
   "metadata": {},
   "source": [
    "**Objectives**\n",
    "\n",
    "- Popular Languages that Data Scientists use\n",
    "- Common Libraries\n",
    "- Data Science Tools\n",
    "- Arithmetic expressions"
   ]
  },
  {
   "cell_type": "markdown",
   "id": "2838aee3-04de-426a-a819-e8e371ed3f33",
   "metadata": {},
   "source": [
    "Some of the popular languages that Data Scientists use are:\n",
    "\n",
    "1. Python\n",
    "2. R\n",
    "3. SQL\n",
    "4. Scala\n",
    "5. JavaScript"
   ]
  },
  {
   "cell_type": "markdown",
   "id": "9ef5af1b-7365-4364-b442-4cd3b48dc084",
   "metadata": {},
   "source": [
    "Some of the commonly used libraries used by Data Scientists include:\n",
    "\n",
    "1. Pandas\n",
    "2. Numpy\n",
    "3. TensorFlow\n",
    "4. PyTorch\n",
    "5. Matplotlib"
   ]
  },
  {
   "cell_type": "markdown",
   "id": "31318165-ec2f-4095-955c-5538c0247b64",
   "metadata": {
    "tags": []
   },
   "source": [
    "| Data Science Tools  |\n",
    "| :-----------------: |\n",
    "| RStudio             |\n",
    "| Visual Studio       |\n",
    "| PyCharm             |"
   ]
  },
  {
   "cell_type": "markdown",
   "id": "2222e9e1-35bf-4ecf-aaeb-b8b7cab3ee0d",
   "metadata": {},
   "source": [
    "### Below are a few examples of evaluating arithmetic expressions in Python   \n"
   ]
  },
  {
   "cell_type": "code",
   "execution_count": 14,
   "id": "5e747803-f769-452e-a3c2-7496092c97b0",
   "metadata": {},
   "outputs": [
    {
     "data": {
      "text/plain": [
       "17"
      ]
     },
     "execution_count": 14,
     "metadata": {},
     "output_type": "execute_result"
    }
   ],
   "source": [
    "\n",
    "# This is a simple arithmetic expression to muliply then add integers.\n",
    "\n",
    "(3*4)+5"
   ]
  },
  {
   "cell_type": "code",
   "execution_count": 16,
   "id": "47425a95-d976-4c10-9550-6ba3f65661e8",
   "metadata": {},
   "outputs": [
    {
     "name": "stdout",
     "output_type": "stream",
     "text": [
      "Hours: 3.3333333333333335\n"
     ]
    }
   ],
   "source": [
    "\n",
    "# This will convert 200 minutes into hours by diving by 60.\n",
    "\n",
    "minutes = 200\n",
    "\n",
    "hour = minutes/60\n",
    "\n",
    "print(\"Hours:\", hour)\n"
   ]
  },
  {
   "cell_type": "markdown",
   "id": "e7c9988e-ecff-484b-9cbb-1379b18b5d35",
   "metadata": {},
   "source": [
    "## Author\n",
    "Logan Fischer"
   ]
  },
  {
   "cell_type": "code",
   "execution_count": null,
   "id": "baf73ae4-7698-4439-ba89-7044424829eb",
   "metadata": {},
   "outputs": [],
   "source": []
  }
 ],
 "metadata": {
  "kernelspec": {
   "display_name": "Python 3 (ipykernel)",
   "language": "python",
   "name": "python3"
  },
  "language_info": {
   "codemirror_mode": {
    "name": "ipython",
    "version": 3
   },
   "file_extension": ".py",
   "mimetype": "text/x-python",
   "name": "python",
   "nbconvert_exporter": "python",
   "pygments_lexer": "ipython3",
   "version": "3.9.12"
  }
 },
 "nbformat": 4,
 "nbformat_minor": 5
}
